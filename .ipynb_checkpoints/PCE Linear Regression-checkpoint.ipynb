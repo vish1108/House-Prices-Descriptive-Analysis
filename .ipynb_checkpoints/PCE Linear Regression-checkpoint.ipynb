{
 "cells": [
  {
   "cell_type": "code",
   "execution_count": 1,
   "id": "b8d55c81",
   "metadata": {},
   "outputs": [],
   "source": [
    "import pandas as pd\n",
    "import numpy as np\n",
    "import matplotlib.pyplot as plt\n",
    "from sklearn.model_selection import train_test_split\n",
    "from sklearn.preprocessing import PolynomialFeatures\n",
    "from sklearn.linear_model import LinearRegression"
   ]
  },
  {
   "cell_type": "code",
   "execution_count": 2,
   "id": "5bc0b201",
   "metadata": {},
   "outputs": [],
   "source": [
    "# Read the CSV file\n",
    "df = pd.read_csv(r\"C:\\Users\\vishal\\OneDrive\\Desktop\\US House Price Project\\Data\\PCE.csv\")"
   ]
  },
  {
   "cell_type": "code",
   "execution_count": 3,
   "id": "3a2e83e7",
   "metadata": {},
   "outputs": [],
   "source": [
    "# Convert 'DATE' to datetime format\n",
    "df['DATE'] = pd.to_datetime(df['DATE'], format='%Y-%m-%d')\n",
    "\n",
    "# Extract year and month\n",
    "df['Year'] = df['DATE'].dt.year\n",
    "df['Month'] = df['DATE'].dt.month"
   ]
  },
  {
   "cell_type": "code",
   "execution_count": 4,
   "id": "661ab7f8",
   "metadata": {},
   "outputs": [],
   "source": [
    "# Create input features and target variable\n",
    "X_year = df['Year'].values.reshape(-1, 1)\n",
    "X_month = df['Month'].values.reshape(-1, 1)\n",
    "Y_pce = df['PCE'].values.reshape(-1, 1)"
   ]
  },
  {
   "cell_type": "code",
   "execution_count": 5,
   "id": "46c13ca6",
   "metadata": {},
   "outputs": [],
   "source": [
    "# Combine input features\n",
    "X_combined = np.column_stack((X_year, X_month))\n",
    "\n",
    "# Generate polynomial features\n",
    "poly_degree = 2 \n",
    "poly = PolynomialFeatures(degree=poly_degree)\n",
    "X_poly = poly.fit_transform(X_combined)"
   ]
  },
  {
   "cell_type": "code",
   "execution_count": 6,
   "id": "ffa49774",
   "metadata": {},
   "outputs": [
    {
     "data": {
      "text/html": [
       "<style>#sk-container-id-1 {color: black;}#sk-container-id-1 pre{padding: 0;}#sk-container-id-1 div.sk-toggleable {background-color: white;}#sk-container-id-1 label.sk-toggleable__label {cursor: pointer;display: block;width: 100%;margin-bottom: 0;padding: 0.3em;box-sizing: border-box;text-align: center;}#sk-container-id-1 label.sk-toggleable__label-arrow:before {content: \"▸\";float: left;margin-right: 0.25em;color: #696969;}#sk-container-id-1 label.sk-toggleable__label-arrow:hover:before {color: black;}#sk-container-id-1 div.sk-estimator:hover label.sk-toggleable__label-arrow:before {color: black;}#sk-container-id-1 div.sk-toggleable__content {max-height: 0;max-width: 0;overflow: hidden;text-align: left;background-color: #f0f8ff;}#sk-container-id-1 div.sk-toggleable__content pre {margin: 0.2em;color: black;border-radius: 0.25em;background-color: #f0f8ff;}#sk-container-id-1 input.sk-toggleable__control:checked~div.sk-toggleable__content {max-height: 200px;max-width: 100%;overflow: auto;}#sk-container-id-1 input.sk-toggleable__control:checked~label.sk-toggleable__label-arrow:before {content: \"▾\";}#sk-container-id-1 div.sk-estimator input.sk-toggleable__control:checked~label.sk-toggleable__label {background-color: #d4ebff;}#sk-container-id-1 div.sk-label input.sk-toggleable__control:checked~label.sk-toggleable__label {background-color: #d4ebff;}#sk-container-id-1 input.sk-hidden--visually {border: 0;clip: rect(1px 1px 1px 1px);clip: rect(1px, 1px, 1px, 1px);height: 1px;margin: -1px;overflow: hidden;padding: 0;position: absolute;width: 1px;}#sk-container-id-1 div.sk-estimator {font-family: monospace;background-color: #f0f8ff;border: 1px dotted black;border-radius: 0.25em;box-sizing: border-box;margin-bottom: 0.5em;}#sk-container-id-1 div.sk-estimator:hover {background-color: #d4ebff;}#sk-container-id-1 div.sk-parallel-item::after {content: \"\";width: 100%;border-bottom: 1px solid gray;flex-grow: 1;}#sk-container-id-1 div.sk-label:hover label.sk-toggleable__label {background-color: #d4ebff;}#sk-container-id-1 div.sk-serial::before {content: \"\";position: absolute;border-left: 1px solid gray;box-sizing: border-box;top: 0;bottom: 0;left: 50%;z-index: 0;}#sk-container-id-1 div.sk-serial {display: flex;flex-direction: column;align-items: center;background-color: white;padding-right: 0.2em;padding-left: 0.2em;position: relative;}#sk-container-id-1 div.sk-item {position: relative;z-index: 1;}#sk-container-id-1 div.sk-parallel {display: flex;align-items: stretch;justify-content: center;background-color: white;position: relative;}#sk-container-id-1 div.sk-item::before, #sk-container-id-1 div.sk-parallel-item::before {content: \"\";position: absolute;border-left: 1px solid gray;box-sizing: border-box;top: 0;bottom: 0;left: 50%;z-index: -1;}#sk-container-id-1 div.sk-parallel-item {display: flex;flex-direction: column;z-index: 1;position: relative;background-color: white;}#sk-container-id-1 div.sk-parallel-item:first-child::after {align-self: flex-end;width: 50%;}#sk-container-id-1 div.sk-parallel-item:last-child::after {align-self: flex-start;width: 50%;}#sk-container-id-1 div.sk-parallel-item:only-child::after {width: 0;}#sk-container-id-1 div.sk-dashed-wrapped {border: 1px dashed gray;margin: 0 0.4em 0.5em 0.4em;box-sizing: border-box;padding-bottom: 0.4em;background-color: white;}#sk-container-id-1 div.sk-label label {font-family: monospace;font-weight: bold;display: inline-block;line-height: 1.2em;}#sk-container-id-1 div.sk-label-container {text-align: center;}#sk-container-id-1 div.sk-container {/* jupyter's `normalize.less` sets `[hidden] { display: none; }` but bootstrap.min.css set `[hidden] { display: none !important; }` so we also need the `!important` here to be able to override the default hidden behavior on the sphinx rendered scikit-learn.org. See: https://github.com/scikit-learn/scikit-learn/issues/21755 */display: inline-block !important;position: relative;}#sk-container-id-1 div.sk-text-repr-fallback {display: none;}</style><div id=\"sk-container-id-1\" class=\"sk-top-container\"><div class=\"sk-text-repr-fallback\"><pre>LinearRegression()</pre><b>In a Jupyter environment, please rerun this cell to show the HTML representation or trust the notebook. <br />On GitHub, the HTML representation is unable to render, please try loading this page with nbviewer.org.</b></div><div class=\"sk-container\" hidden><div class=\"sk-item\"><div class=\"sk-estimator sk-toggleable\"><input class=\"sk-toggleable__control sk-hidden--visually\" id=\"sk-estimator-id-1\" type=\"checkbox\" checked><label for=\"sk-estimator-id-1\" class=\"sk-toggleable__label sk-toggleable__label-arrow\">LinearRegression</label><div class=\"sk-toggleable__content\"><pre>LinearRegression()</pre></div></div></div></div></div>"
      ],
      "text/plain": [
       "LinearRegression()"
      ]
     },
     "execution_count": 6,
     "metadata": {},
     "output_type": "execute_result"
    }
   ],
   "source": [
    "# Split the data into training and testing sets\n",
    "X_train, X_test, Y_train, Y_test = train_test_split(X_poly, Y_pce, test_size=0.2, random_state=42)\n",
    "\n",
    "# Train regression model\n",
    "reg_poly = LinearRegression()\n",
    "reg_poly.fit(X_train, Y_train)"
   ]
  },
  {
   "cell_type": "code",
   "execution_count": 7,
   "id": "ad1b31ed",
   "metadata": {},
   "outputs": [
    {
     "name": "stdout",
     "output_type": "stream",
     "text": [
      "Enter the year that you want in terms of 'YYYY': 2022\n",
      "Enter the month that you want: 4\n"
     ]
    }
   ],
   "source": [
    "# Get user input for prediction\n",
    "new_PCE_year = int(input(\"Enter the year that you want in terms of 'YYYY': \"))\n",
    "new_PCE_month = int(input(\"Enter the month that you want: \"))\n",
    "\n",
    "# Create array for prediction\n",
    "new_dates = np.array([[new_PCE_year, new_PCE_month]])\n",
    "new_dates_poly = poly.transform(new_dates)"
   ]
  },
  {
   "cell_type": "code",
   "execution_count": 8,
   "id": "cd262bfa",
   "metadata": {},
   "outputs": [
    {
     "name": "stdout",
     "output_type": "stream",
     "text": [
      "Predicted PCE (Polynomial Regression): [[16134.47471654]]\n"
     ]
    }
   ],
   "source": [
    "# Make predictions\n",
    "predicted_pce_poly = reg_poly.predict(new_dates_poly)\n",
    "\n",
    "# Print the predicted PCE value\n",
    "print(\"Predicted PCE (Polynomial Regression):\", predicted_pce_poly)"
   ]
  },
  {
   "cell_type": "code",
   "execution_count": 9,
   "id": "943046dc",
   "metadata": {},
   "outputs": [
    {
     "name": "stdout",
     "output_type": "stream",
     "text": [
      "Mean Absolute Error (MAE) for Polynomial Regression: 228.49564851239708\n",
      "Mean Squared Error (MSE) for Polynomial Regression: 227612.39480971568\n",
      "R-squared (R2) for Polynomial Regression: 0.9914901616933111\n"
     ]
    }
   ],
   "source": [
    "from sklearn.metrics import mean_absolute_error, mean_squared_error, r2_score\n",
    "\n",
    "# Make predictions on the test set\n",
    "Y_pred_poly = reg_poly.predict(X_test)\n",
    "\n",
    "# Calculate MAE, MSE, and R2\n",
    "mae_poly = mean_absolute_error(Y_test, Y_pred_poly)\n",
    "mse_poly = mean_squared_error(Y_test, Y_pred_poly)\n",
    "r2_poly = r2_score(Y_test, Y_pred_poly)\n",
    "\n",
    "# Print the metrics\n",
    "print(f'Mean Absolute Error (MAE) for Polynomial Regression: {mae_poly}')\n",
    "print(f'Mean Squared Error (MSE) for Polynomial Regression: {mse_poly}')\n",
    "print(f'R-squared (R2) for Polynomial Regression: {r2_poly}')"
   ]
  },
  {
   "cell_type": "code",
   "execution_count": 10,
   "id": "aa13ed62",
   "metadata": {},
   "outputs": [
    {
     "data": {
      "image/png": "[encoded data removed]",
      "text/plain": [
       "<Figure size 640x480 with 1 Axes>"
      ]
     },
     "metadata": {},
     "output_type": "display_data"
    }
   ],
   "source": [
    "from sklearn.preprocessing import PolynomialFeatures\n",
    "\n",
    "df['DATE'] = pd.to_datetime(df['DATE'], format='%Y-%m-%d')\n",
    "X_combined = df['DATE'].values.reshape(-1, 1)\n",
    "\n",
    "# Generate polynomial features\n",
    "poly = PolynomialFeatures(degree=2)\n",
    "X_poly = poly.fit_transform(X_combined)\n",
    "\n",
    "# Train a polynomial regression model\n",
    "reg_poly = LinearRegression()\n",
    "reg_poly.fit(X_poly, Y_pce)\n",
    "\n",
    "# Plotting the data points\n",
    "plt.scatter(df.DATE, df.PCE, color='red', marker='+')\n",
    "plt.xlabel('DATE')\n",
    "plt.ylabel('PCE')\n",
    "\n",
    "# Plotting the regression line for polynomial regression\n",
    "X_range = pd.date_range(start=min(df.DATE), end=max(df.DATE), freq='D')\n",
    "X_range_poly = poly.transform(X_range.values.reshape(-1, 1))\n",
    "plt.plot(X_range, reg_poly.predict(X_range_poly), color='blue', linewidth=2)\n",
    "\n",
    "\n",
    "plt.show()"
   ]
  }
 ],
 "metadata": {
  "kernelspec": {
   "display_name": "Python 3 (ipykernel)",
   "language": "python",
   "name": "python3"
  },
  "language_info": {
   "codemirror_mode": {
    "name": "ipython",
    "version": 3
   },
   "file_extension": ".py",
   "mimetype": "text/x-python",
   "name": "python",
   "nbconvert_exporter": "python",
   "pygments_lexer": "ipython3",
   "version": "3.11.4"
  }
 },
 "nbformat": 4,
 "nbformat_minor": 5
}
